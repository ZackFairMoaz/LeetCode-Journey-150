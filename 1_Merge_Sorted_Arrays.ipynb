{
 "cells": [
  {
   "cell_type": "markdown",
   "metadata": {},
   "source": [
    "## Merge Sorted Arrays"
   ]
  },
  {
   "cell_type": "code",
   "execution_count": 11,
   "metadata": {},
   "outputs": [
    {
     "name": "stdout",
     "output_type": "stream",
     "text": [
      "[1, 2, 2, 3, 5, 6]\n"
     ]
    }
   ],
   "source": [
    "def merge(nums1, m, nums2, n):\n",
    "        \"\"\"\n",
    "        :type nums1: List[int]\n",
    "        :type m: int\n",
    "        :type nums2: List[int]\n",
    "        :type n: int\n",
    "        :rtype: None Do not return anything, modify nums1 in-place instead.\n",
    "        \"\"\"\n",
    "        third_arr = [None] * (m+n)\n",
    "        i = j = k = 0\n",
    "        while (i < m and j < n):\n",
    "            if nums1[i] < nums2[j]:\n",
    "                third_arr[k] = nums1[i]\n",
    "                i+=1\n",
    "                k+=1\n",
    "            else:\n",
    "                third_arr[k] = nums2[j]\n",
    "                j+=1\n",
    "                k+=1\n",
    "        while i<m:\n",
    "            third_arr[k] = nums1[i]\n",
    "            i+=1\n",
    "            k+=1\n",
    "        while j<n:\n",
    "            third_arr[k] = nums2[j]\n",
    "            j+=1\n",
    "            k+=1\n",
    "        nums1 = third_arr[:]\n",
    "        print(nums1)\n",
    "        \n",
    "A = [1, 2, 3, 0, 0,0]\n",
    "m = 3\n",
    " \n",
    "B = [2, 5, 6]\n",
    "n = len(B)\n",
    "merge(A, m, B, n);"
   ]
  }
 ],
 "metadata": {
  "kernelspec": {
   "display_name": "base",
   "language": "python",
   "name": "python3"
  },
  "language_info": {
   "codemirror_mode": {
    "name": "ipython",
    "version": 3
   },
   "file_extension": ".py",
   "mimetype": "text/x-python",
   "name": "python",
   "nbconvert_exporter": "python",
   "pygments_lexer": "ipython3",
   "version": "3.11.3"
  }
 },
 "nbformat": 4,
 "nbformat_minor": 2
}
